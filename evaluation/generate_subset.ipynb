{
 "cells": [
  {
   "cell_type": "markdown",
   "metadata": {},
   "source": [
    "# Subset generation\n",
    "\n",
    "This notebook generate a subset of 100 out of a json file."
   ]
  },
  {
   "cell_type": "code",
   "execution_count": 1,
   "metadata": {},
   "outputs": [],
   "source": [
    "data = 'professors'\n",
    "\n",
    "if data not in ['professors', 'degrees', 'course_units']: raise Exception('data must be professors, degrees or course_units')"
   ]
  },
  {
   "cell_type": "code",
   "execution_count": 2,
   "metadata": {},
   "outputs": [],
   "source": [
    "import json\n",
    "import random\n",
    "\n",
    "with open(f'../src/solr/original_data/{data}_embeddings.json', 'r', encoding=\"utf8\") as file:\n",
    "    file_data = json.load(file)\n",
    "\n",
    "if not isinstance(file_data, list):\n",
    "    raise ValueError(\"JSON data should be in the form of a list\")\n",
    "\n",
    "random_subset = random.sample(file_data, 100)\n",
    "\n",
    "with open(f'../src/solr/data/{data}_embeddings.json', 'w') as file:\n",
    "    json.dump(random_subset, file, indent=4)"
   ]
  }
 ],
 "metadata": {
  "kernelspec": {
   "display_name": "Python 3",
   "language": "python",
   "name": "python3"
  },
  "language_info": {
   "codemirror_mode": {
    "name": "ipython",
    "version": 3
   },
   "file_extension": ".py",
   "mimetype": "text/x-python",
   "name": "python",
   "nbconvert_exporter": "python",
   "pygments_lexer": "ipython3",
   "version": "3.10.7"
  }
 },
 "nbformat": 4,
 "nbformat_minor": 2
}
